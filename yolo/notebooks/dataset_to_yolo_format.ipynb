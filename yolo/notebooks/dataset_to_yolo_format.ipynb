{
 "cells": [
  {
   "cell_type": "code",
   "execution_count": 1,
   "metadata": {
    "pycharm": {
     "is_executing": false
    }
   },
   "outputs": [],
   "source": [
    "import shutil\n",
    "import random\n",
    "import json\n",
    "import os"
   ]
  },
  {
   "cell_type": "code",
   "execution_count": 2,
   "metadata": {},
   "outputs": [],
   "source": [
    "dataset_path = \"../data/test1\"\n",
    "path_class_names = os.path.join(dataset_path, \"Dataset32a6aec8-8797-4785-af76-43e1ff8d92fe/annotation_definitions.json\")\n",
    "path_bounding_boxes = os.path.join(dataset_path, \"Dataset32a6aec8-8797-4785-af76-43e1ff8d92fe/captures_000.json\")\n",
    "new_yolo_dataset_path = \"data/yolo_dataset\""
   ]
  },
  {
   "cell_type": "markdown",
   "metadata": {},
   "source": [
    "### Load class names"
   ]
  },
  {
   "cell_type": "code",
   "execution_count": 3,
   "metadata": {},
   "outputs": [],
   "source": [
    "with open(path_class_names, \"r\") as json_file:\n",
    "    data = json.load(json_file)"
   ]
  },
  {
   "cell_type": "code",
   "execution_count": 4,
   "metadata": {},
   "outputs": [],
   "source": [
    "class_names = []\n",
    "for element in data['annotation_definitions'][0]['spec']:\n",
    "    class_names.append(element['label_name'])"
   ]
  },
  {
   "cell_type": "code",
   "execution_count": 5,
   "metadata": {},
   "outputs": [],
   "source": [
    "print(\"num of classes:\", len(class_names))\n",
    "print(\"class names:\")\n",
    "for name in class_names:\n",
    "    print('\\t' + name)"
   ]
  },
  {
   "cell_type": "markdown",
   "metadata": {},
   "source": [
    "### Load labels"
   ]
  },
  {
   "cell_type": "code",
   "execution_count": 6,
   "metadata": {},
   "outputs": [],
   "source": [
    "with open(path_bounding_boxes, \"r\") as json_file:\n",
    "    data = json.load(json_file)"
   ]
  },
  {
   "cell_type": "code",
   "execution_count": 7,
   "metadata": {},
   "outputs": [],
   "source": [
    "img_paths = []\n",
    "bounding_boxes = {}\n",
    "for element in data['captures']:\n",
    "\n",
    "    filename = element['filename']\n",
    "    img_paths.append(filename)\n",
    "\n",
    "    bounding_boxes[filename] = []\n",
    "    for bbox in element['annotations'][0]['values']:\n",
    "        tmp = [bbox['label_id'], bbox['x'], bbox['y'], bbox['width'], bbox['height']]\n",
    "        bounding_boxes[filename].append(tmp)"
   ]
  },
  {
   "cell_type": "code",
   "execution_count": 8,
   "metadata": {},
   "outputs": [],
   "source": [
    "print(\"num of images:\", len(img_paths))\n",
    "# print(\"image paths:\", img_paths)"
   ]
  },
  {
   "cell_type": "markdown",
   "metadata": {},
   "source": [
    "### Create dataset folder"
   ]
  },
  {
   "cell_type": "code",
   "execution_count": 9,
   "metadata": {},
   "outputs": [],
   "source": [
    "new_yolo_dataset_img_path = new_yolo_dataset_path + \"/images\"\n",
    "if not os.path.exists(\"../\" + new_yolo_dataset_img_path):\n",
    "    os.makedirs(new_yolo_dataset_img_path)"
   ]
  },
  {
   "cell_type": "markdown",
   "metadata": {},
   "source": [
    "### Generate class name info file"
   ]
  },
  {
   "cell_type": "code",
   "execution_count": 10,
   "metadata": {},
   "outputs": [],
   "source": [
    "with open(os.path.join(\"../\" + new_yolo_dataset_path, \"class_names.txt\"), \"w\") as class_names_file:\n",
    "    for class_name in class_names:\n",
    "        class_names_file.write(class_name + '\\n')"
   ]
  },
  {
   "cell_type": "markdown",
   "metadata": {},
   "source": [
    "### Copy images to new folder and for each of them generate txt file with bounding box info"
   ]
  },
  {
   "cell_type": "code",
   "execution_count": 11,
   "metadata": {},
   "outputs": [],
   "source": [
    "new_img_paths = []\n",
    "i = 0\n",
    "for path in img_paths:\n",
    "    img_name = str(i) + \".png\"\n",
    "    txt_name = str(i) + \".txt\"\n",
    "    \n",
    "    src_path = dataset_path + '/' + path\n",
    "    dst_path_img = new_yolo_dataset_img_path + '/' + img_name\n",
    "    dst_path_txt = new_yolo_dataset_img_path + '/' + txt_name\n",
    "\n",
    "    shutil.copy(src_path, \"../\" + dst_path_img)\n",
    "    new_img_paths.append(dst_path_img)\n",
    "\n",
    "    with open(\"../\" + dst_path_txt, \"w\") as txt_file:\n",
    "        for bbox in bounding_boxes[path]:\n",
    "            label = str(bbox[0]) + \" \" + str(bbox[1]) + \" \" + str(bbox[2]) + \" \" + str(bbox[3]) + \" \" + str(bbox[4])\n",
    "            txt_file.write(label + \"\\n\")\n",
    "\n",
    "    i += 1"
   ]
  },
  {
   "cell_type": "markdown",
   "metadata": {},
   "source": [
    "### Generate train/test info files"
   ]
  },
  {
   "cell_type": "code",
   "execution_count": 12,
   "metadata": {},
   "outputs": [],
   "source": [
    "split_ratio = 0.9\n",
    "random.shuffle(new_img_paths)\n",
    "split_point = int(split_ratio * len(new_img_paths))\n",
    "train_set = new_img_paths[:split_point]\n",
    "test_set = new_img_paths[split_point:]\n",
    "print(\"Train set length:\", len(train_set))\n",
    "print(\"Test set length:\", len(test_set))"
   ]
  },
  {
   "cell_type": "code",
   "execution_count": 13,
   "metadata": {},
   "outputs": [],
   "source": [
    "with open(\"../\" + new_yolo_dataset_path + \"/train_set.txt\", \"w\") as train_set_file:\n",
    "    for filename in train_set:\n",
    "        train_set_file.write(filename + '\\n')"
   ]
  },
  {
   "cell_type": "code",
   "execution_count": 14,
   "metadata": {},
   "outputs": [],
   "source": [
    "with open(\"../\" + new_yolo_dataset_path + \"/test_set.txt\", \"w\") as test_set_file:\n",
    "    for filename in test_set:\n",
    "        test_set_file.write(filename + '\\n')"
   ]
  }
 ],
 "metadata": {
  "kernelspec": {
   "display_name": "Python 3",
   "language": "python",
   "name": "python3"
  },
  "language_info": {
   "codemirror_mode": {
    "name": "ipython",
    "version": 3
   },
   "file_extension": ".py",
   "mimetype": "text/x-python",
   "name": "python",
   "nbconvert_exporter": "python",
   "pygments_lexer": "ipython3",
   "version": "3.7.9"
  }
 },
 "nbformat": 4,
 "nbformat_minor": 1
}
